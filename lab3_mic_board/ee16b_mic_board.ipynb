{
 "cells": [
  {
   "cell_type": "markdown",
   "metadata": {},
   "source": [
    "# Characterizing Filters and Frequency Responses\n",
    "\n",
    "### EE 16B: Designing Information Devices and Systems II, Spring 2018"
   ]
  },
  {
   "cell_type": "markdown",
   "metadata": {},
   "source": [
    "**Name 1**:\n",
    "\n",
    "**Login**: ee16b-\n",
    "\n",
    "\n",
    "**Name 2**:\n",
    "\n",
    "**Login**: ee16b-"
   ]
  },
  {
   "cell_type": "markdown",
   "metadata": {},
   "source": [
    "\n",
    "## Table of Contents\n",
    "\n",
    "\n",
    "* [Introduction](#intro)\n",
    "* [Task 1: Solder mic board](#task1)\n",
    "* [Task 2: Capacitor Value](#task2)\n",
    "* [Task 3: Switching the Filter](#task3)"
   ]
  },
  {
   "cell_type": "markdown",
   "metadata": {},
   "source": [
    "<a id='intro'></a>\n",
    "## Introduction\n",
    "\n",
    "In this lab, you will gain experience with frequency responses in two different contexts. First, you will solder together a microphone PCB (mic board). Second, you will determine the value of a capacitor by measuring the response of an RC filter. Finally, you will measure the frequency response of a speaker-microphone system to assist with Color Organ, the lab for the next two weeks."
   ]
  },
  {
   "cell_type": "markdown",
   "metadata": {},
   "source": [
    "<a id='task1'></a>\n",
    "## <span style=\"color:blue\">Task 1: Solder your mic board</span>\n",
    "(See MicBoard.pdf)\n",
    "### Materials\n",
    "- 1 x microphone\n",
    "- 1 x Op Amp\n",
    "- 1 x 8-pin socket\n",
    "- 2 x 1 uF Capacitors\n",
    "- 1 x 10 k$\\Omega$ Resistor\n",
    "- 1 x 1 k$\\Omega$ Resistor\n",
    "- 1 x 50 k$\\Omega$ Potentiometer\n",
    "- 6 x Jumper pins (don't break apart!)\n",
    "- 1 x Mic board PCB\n",
    "\n"
   ]
  },
  {
   "cell_type": "markdown",
   "metadata": {},
   "source": [
    "<a id='task2'></a>\n",
    "## <span style=\"color:blue\">Task 2: Capacitor Value</span>\n",
    "\n",
    "### Materials\n",
    "- Mystery Capacitor\n",
    "- Known Resistor\n",
    "- Oscilloscope\n",
    "- Power Supply"
   ]
  },
  {
   "cell_type": "markdown",
   "metadata": {},
   "source": [
    "To measure the value of the capacitor, we can use a circuit similar to the voltage divider. However, recall that capacitors can act like very small or very large resistors depending on the frequency of the input. This means we will have to look at the circuit output over several frequencies to estimate its value.\n",
    "\n",
    "Let us derive the transfer function $H(jw) = \\frac{V_{out}}{V_{in}}$ for the resistor, capacitor voltage divider shown below (In the diagram below $V_{in}$ is where 3V is shown):\n",
    "\n",
    "Impedance for a Resistor: $Z_{R} = R$\n",
    "\n",
    "Impedence for a Capacitor: $Z_{C}= \\frac{1}{j\\omega C}$\n",
    "\n",
    "Voltage divider with complex impedances: $V_{out} = V_{in}\\frac{Z_C}{Z_C + Z_R}$\n",
    "\n",
    "$V_{out} = V_{in}\\frac{\\frac{1}{j\\omega C}}{\\frac{1}{j\\omega C} + R}$\n",
    "\n",
    "$H(jw) = \\frac{V_{out}}{V_{in}} = \\frac{1}{j\\omega RC + 1}$\n",
    "\n",
    "This transfer function characterizes the response of the RC circuit, shown below, to inputs of varying frequency. By plugging in different frequencies for $\\omega$ we can see that the circuit attenuates the magnitude of inputs with a higher frequencies while allowing lower frequencies to pass through relatively unattenuated. This filter is known as a low pass filter. A more intuitive explanation of the filter's frequency response is given in the paragraphs below.\n",
    "\n",
    "<img style=\"width: 250px\" src=\"images/co-low-pass-filt-v2.png\">\n",
    "\n",
    "Let us begin by intuitively examining the capacitor in the voltage divider pictured above.\n",
    "\n",
    "Recall that, if one component's impedence is much larger than the other, then almost all of the voltage is dropped across that larger component. So, if the top component is the large one, then the output voltage will be very small. If the bottom component is large, then the output voltage will be very large. \n",
    "\n",
    "Now, lets think about capacitors. Capacitors let high frequency signals pass through, but stop low frequency signals. So, at high frequencies capacitors act like a small impedance, and at low frequencies capacitors act like a large impedance. \n",
    "\n",
    "<img style=\"width: 250px\" src=\"images/ac-dc-capacitor.png\">\n"
   ]
  },
  {
   "cell_type": "markdown",
   "metadata": {},
   "source": [
    "**<span style=\"color:red\">If the voltage source $V_{src}$ has a very low frequency, will $V_o$ be large or small?</span>**\n",
    "\n",
    "Vout will be larger because a capacitor has a higher impedance when the voltage has a low frequency.\n",
    "\n",
    "**<span style=\"color:red\">If the voltage source $V_{src}$ has a very high frequency, will $V_o$ be large or small?</span>**\n",
    "\n",
    "Vout will be smaller because a capacitor has a lower impedance when the voltage has a high frequency.\n"
   ]
  },
  {
   "cell_type": "markdown",
   "metadata": {},
   "source": [
    "You will now test your prediction, and examine the change in amplitude of the output voltage at high and low frequencies. **Use your function generator as your voltage source** and your oscilloscope to measure the amplitude of the output signal. <i> Remember to connect all the grounds of the circuit together! </i> Set the following parameters on the function generator:\n",
    "- Amplitude: 3 Vpp\n",
    "- DC Offset: 0 V\n",
    "- Frequency: the values in `freq` below\n",
    "- Output Load: High Z\n",
    "\n",
    "Remember that the the amplitude values on the function generator are peak-to-peak\n",
    "\n",
    "**First, record the amplitide of the input signal as `Vsrc`. Then, test each frequency in array `freq` and record your results in `Amplitude`.**\n",
    "\n",
    "### **<span style=\"color:red\">Use the measurement feature of the oscilloscope to automatically display the peak-to-peak voltage of the signal! Don't manually use the cursors.</span>**\n",
    "\n",
    "**You may find that your signal either attenuates immediately or not at all.** That doesn't mean your circuit is wrong! Let's look at two extreme examples.\n",
    "\n",
    "### **<span style=\"color:red\">Make sure that your plot contains the full response of the filter! At one end the *gain* should appproach $0$ and at the other it should approach $1$. </span>**"
   ]
  },
  {
   "cell_type": "markdown",
   "metadata": {},
   "source": [
    "$$C_{myst}=100\\mu\\text{F}$$\n",
    "$$R=10\\text{k}\\Omega$$\n",
    "$$\\implies f_c=\\frac{1}{2\\pi 10^{-4}\\text{F}\\ 10^4\\Omega}=0.159\\text{Hz}$$"
   ]
  },
  {
   "cell_type": "markdown",
   "metadata": {},
   "source": [
    "$$C_{myst}=1\\text{nF}$$\n",
    "$$R=10\\Omega$$\n",
    "$$\\implies f_c=\\frac{1}{2\\pi 10^{-9}\\text{F}\\ 10\\Omega}=15.9\\text{MHz}$$\n",
    "\n",
    "**Keep this in mind when choosing your resistor.** "
   ]
  },
  {
   "cell_type": "code",
   "execution_count": 2,
   "metadata": {
    "collapsed": true
   },
   "outputs": [],
   "source": [
    "import numpy as np\n",
    "import matplotlib.pyplot as plt\n",
    "%matplotlib inline"
   ]
  },
  {
   "cell_type": "code",
   "execution_count": 4,
   "metadata": {
    "collapsed": false
   },
   "outputs": [
    {
     "data": {
      "text/plain": [
       "<matplotlib.text.Text at 0x842ffd0>"
      ]
     },
     "execution_count": 4,
     "metadata": {},
     "output_type": "execute_result"
    },
    {
     "data": {
      "image/png": "[encoded data removed]",
      "text/plain": [
       "<matplotlib.figure.Figure at 0xa72ed68>"
      ]
     },
     "metadata": {},
     "output_type": "display_data"
    }
   ],
   "source": [
    "Vsrc = 3\n",
    "\n",
    "freq = [10, 50, 100, 500, 1e3, 5e3, 10e3, 50e3, 100e3, 500e3]\n",
    "Amplitude = [2.55,0.98,0.51,0.12,0.07,0.027,0.00,0,0,0]\n",
    "\n",
    "Gain = np.array(Amplitude)/Vsrc\n",
    "\n",
    "p = plt.semilogx(freq, Gain)\n",
    "plt.title('Gain vs Frequency')\n",
    "plt.xlabel('Frequency (Hz)')\n",
    "plt.ylabel('Gain (Volts/Volt)')"
   ]
  },
  {
   "cell_type": "markdown",
   "metadata": {},
   "source": [
    "Let's look at the graph we just made. Notice that it graphs and voltage gain on log axes as a Bode plot.\n",
    "\n",
    "You will notice in your graph that the amplitude is relatively constant in low frequencies, but drops suddenly at high frequencies. This kind of resistor-capacitor combination is referred to as a **Low Pass Filter**. It lets low frequencies pass as large voltages, whereas high frequencies are attenuated. The point where the magnitude drops suddenly is known by many names such as the **corner frequency, cutoff frequency, and 3dB point**.\n",
    "\n",
    "What makes this corner frequency special? This is the frequency where the power at the output is half the power of the unfiltered frequencies (<b>power </b>, not voltage). In this simple RC circuit, you can also think of it as the point where the capacitor acts like the same size impedance as the resistor.\n",
    "\n",
    "This corner in the frequency response happens very quickly, and we want to identify right where it happens so that we can solve accurately for the value of the capacitor. To do this, look at your graph and identify the amplitude of the unattenuated frequencies (freqencies in the passband).\n"
   ]
  },
  {
   "cell_type": "markdown",
   "metadata": {},
   "source": [
    "**<span style=\"color:red\">What is the passband amplitude? (ie: What is the voltage where the signal is not attenuated?)</span>**\n"
   ]
  },
  {
   "cell_type": "code",
   "execution_count": 5,
   "metadata": {
    "collapsed": false
   },
   "outputs": [
    {
     "name": "stdout",
     "output_type": "stream",
     "text": [
      "2.1213203435596424 V\n"
     ]
    }
   ],
   "source": [
    "print(3/(2**0.5),'V')"
   ]
  },
  {
   "cell_type": "markdown",
   "metadata": {},
   "source": [
    "Since you are looking for the half power point, and not the half voltage point, you will divide the maximum voltage amplitude by $\\sqrt{2}$. (Recall that $P=IV=V^2/R $. For $P/2$ and the same $R$, we need $(V/\\sqrt{2})^2 = V^2 / 2$). Look at the graph you just made and estimate where you expect your corner frequency to be. \n",
    "\n",
    "**Now, turn the knob on your frequency generator and watch the amplitude of the outuput on your scope. Turn until you find the frequency where the amplitude is $\\frac{V_{max}}{\\sqrt{2}}$. That is your corner frequency.**\n",
    "\n",
    "Record extra data near the corner frequency to get a better plot of the frequency response."
   ]
  },
  {
   "cell_type": "markdown",
   "metadata": {},
   "source": [
    "**<span style=\"color:red\">What is the corner frequency?</span>**\n",
    "\n",
    "16.5 Hz"
   ]
  },
  {
   "cell_type": "markdown",
   "metadata": {},
   "source": [
    "Now that you know your corner frequency and your resistor value, you can solve for your capacitor value. Remember that we are using Hertz (1/s) to measure our frequencies from the function generator, but we like to use radians when we do math.\n",
    "\n",
    "The corner frequency occurs at: \n",
    "$$f_{corner} = \\frac{1}{2\\pi RC}$$"
   ]
  },
  {
   "cell_type": "code",
   "execution_count": 6,
   "metadata": {
    "collapsed": false
   },
   "outputs": [
    {
     "name": "stdout",
     "output_type": "stream",
     "text": [
      "9.646038613092569e-06\n"
     ]
    }
   ],
   "source": [
    "C_myst = 1/2/3.1415/1000/16.5\n",
    "\n",
    "print(C_myst)"
   ]
  },
  {
   "cell_type": "markdown",
   "metadata": {},
   "source": [
    "**<span style=\"color:red\">What is the value of your capacitor?</span>**\n",
    "\n",
    "10 microFarad"
   ]
  },
  {
   "cell_type": "markdown",
   "metadata": {},
   "source": [
    "<img width='30px' align='left' src=\"http://inst.eecs.berkeley.edu/~ee16b/sp16/lab_pics/check.png\">\n",
    "<br/>\n",
    "## <span style=\"color:green\">CHECKPOINT 1</span>\n",
    " <span style=\"color:green\">Show your GSI your frequency response graph with the extra points around your corner frequency, and your estimated capacitance value.</span>"
   ]
  },
  {
   "cell_type": "markdown",
   "metadata": {},
   "source": [
    "What happens when you switch the resistor and capacitor in the filter. \n",
    "Perform the same analysis we did above for the low pass filter. What types of frequencies do you expect to be stopped this time?\n",
    "\n",
    "Let us derive the transfer function $H(jw) = \\frac{V_{out}}{ V_{in}}$ for the resistor, capacitor voltage divider shown below:\n",
    "\n",
    "Impedance of R: $Z_R = R$\n",
    "\n",
    "Impedance of C: $Z_C = \\frac{1}{j\\omega_c}$\n",
    "\n",
    "Voltage divider with complex impedences: $V_{out} = V_{in}\\frac{Z_R}{Z_R + Z_C}$\n",
    "\n",
    "$V_{out} = V_{in}\\frac{R}{R + \\frac{1}{j \\omega_c}}$\n",
    "\n",
    "$H(j\\omega) = \\frac{V_{out}}{V_{in}} = \\frac{j\\omega RC}{j\\omega RC + 1}$\n",
    "\n",
    "You can use the above transfer function to analyze how the circuit depicted below responds to inputs of different frequencies. This transfer function is for a low pass filter. By plugging in different values for the frequency we can see how the filter attenuates the magnitude of higher frequencies while allowing lower frequencies to pass through relatively unattenuated.\n",
    "\n",
    "<img style=\"width: 250px\" src=\"images/co-high-pass-filt-v2.png\">\n",
    "\n",
    "**Again, use the function generator and the o-scope to collect the amplitude of $V_{in}$, and of $V_{out}$ at each frequency of array f.**"
   ]
  },
  {
   "cell_type": "code",
   "execution_count": 7,
   "metadata": {
    "collapsed": false
   },
   "outputs": [
    {
     "data": {
      "text/plain": [
       "<matplotlib.text.Text at 0x8bbd710>"
      ]
     },
     "execution_count": 7,
     "metadata": {},
     "output_type": "execute_result"
    },
    {
     "data": {
      "image/png": "[encoded data removed]",
      "text/plain": [
       "<matplotlib.figure.Figure at 0x8ba15c0>"
      ]
     },
     "metadata": {},
     "output_type": "display_data"
    }
   ],
   "source": [
    "#Record the amplitude of the output sinusoid at each given frequency\n",
    "Vsrc = 3\n",
    "freq = [10, 50, 100, 500, 1e3, 5e3, 10e3, 50e3, 100e3, 500e3]\n",
    "Amplitude = [1.65,2.8,2.89,2.93,2.94,2.97,2.97,2.97,2.97,2.97]\n",
    "\n",
    "Gain = np.array(Amplitude)/Vsrc\n",
    "\n",
    "p = plt.semilogx(freq, Gain)\n",
    "plt.title('Gain vs Frequency')\n",
    "plt.xlabel('Frequency (Hz)')\n",
    "plt.ylabel('Gain (Volts/Volt)')"
   ]
  },
  {
   "cell_type": "markdown",
   "metadata": {},
   "source": [
    "What do you notice about the shape of this filter compared to the previous filter? What about the corner frequency? \n"
   ]
  },
  {
   "cell_type": "markdown",
   "metadata": {},
   "source": [
    "**<span style=\"color:red\">What is an appropriate name for this type of filter?</span>**\n",
    "\n",
    "High pass filter"
   ]
  },
  {
   "cell_type": "markdown",
   "metadata": {},
   "source": [
    "**<span style=\"color:red\">Has the corner frequency moved? Why or why not?</span>**\n",
    "\n",
    "It has not because it still causes energy dissipated to be 1/2 of the amount. When the energy dissipated is 1/2, the order of the resistor and capacitor does not matter"
   ]
  },
  {
   "cell_type": "markdown",
   "metadata": {},
   "source": [
    "<img width='30px' align='left' src=\"http://inst.eecs.berkeley.edu/~ee16b/sp16/lab_pics/check.png\">\n",
    "<br/>\n",
    "## <span style=\"color:green\">CHECKPOINT 2</span>\n",
    " <span style=\"color:green\">Be able to explain how changing the capacitor placement changed the filter response.</span>\n",
    " \n",
    "### **<span style=\"color:red\">Give back your mystery capacitor!</span>**"
   ]
  },
  {
   "cell_type": "markdown",
   "metadata": {},
   "source": [
    "Great job! You have solved the mystery and learned how to design and characterize a filter. These skills will come in handy for the next lab, Color Organ!"
   ]
  },
  {
   "cell_type": "markdown",
   "metadata": {},
   "source": [
    "<a id='task3'></a>\n",
    "## <span style=\"color:blue\">Task 3: Testing your micboard</span>\n",
    "\n",
    "### Materials\n",
    "- Micboard\n",
    "- Pure tone generator (smart phone)\n",
    "- Oscilloscope\n",
    "- Power Supply"
   ]
  },
  {
   "cell_type": "markdown",
   "metadata": {},
   "source": [
    "Now that you have measured the frequency response of a simple circuit, you will investigate how your mic board responds to audio signals of different frequencies. These results will help you choose amplifier gains for the Color Organ lab over the next two weeks.\n",
    "\n",
    "Power your mic board, and probe its output with your oscilloscope. For details on how to power your mic, refer to the end of the MicBoard PDF file. Play pure tones to the mic board off of your phone using a website like the ones listed below. They should be top results if you search \"tone generator\".\n",
    "\n",
    "## **<span style=\"color:red\">If you have an iPhone, make sure it isn't silenced!</span>**\n",
    "\n",
    "http://www.szynalski.com/tone-generator/\n",
    "\n",
    "http://onlinetonegenerator.com/\n",
    "\n",
    "\n",
    "You should see something like this:\n",
    "\n",
    "<img style=\"width: 500px\" src=\"images/puretone_micboard.jpg\">\n",
    "\n",
    "## **<span style=\"color:red\">Set the gain of your mic board using the potentiometer so you get a maximum peak-to-peak voltage of 4-5 volts</span>**\n",
    "\n",
    "Keep your smart phone at a fixed distance from your micboard.  (You will need to place the phone at a distance from the micboard which ensures no audio frequency causes the mic output to rail (hit Vdd or Vss from the power supply).\n",
    "\n",
    "Use the oscilloscope to collect the amplitude of $V_{out}$ at each frequency of array f. We no longer have a measurable input signal $V_{in}$, so we normalize the maximum of the frequency response to 1. We'll use this information to build next week's circuit with an even response across all frequencies.\n",
    "\n"
   ]
  },
  {
   "cell_type": "code",
   "execution_count": 9,
   "metadata": {
    "collapsed": false
   },
   "outputs": [
    {
     "data": {
      "text/plain": [
       "<matplotlib.text.Text at 0x8992048>"
      ]
     },
     "execution_count": 9,
     "metadata": {},
     "output_type": "execute_result"
    },
    {
     "data": {
      "image/png": "[encoded data removed]",
      "text/plain": [
       "<matplotlib.figure.Figure at 0x8935588>"
      ]
     },
     "metadata": {},
     "output_type": "display_data"
    }
   ],
   "source": [
    "#Record the amplitude of the output sinusoid at each given frequency\n",
    "freq = [100, 150, 200, 300, 450, 600, 800, 1000, 1500, 2000, 3000, 4000, 5500, 7000, 8500, 10000]\n",
    "Vpp = [0,0,0,0,0.3,.6,1.9,2.2,2.4,3.1,10,3.3,3,1.4,.3,0.22]\n",
    "\n",
    "Gain = np.array(Vpp)/max(Vpp)\n",
    "\n",
    "p = plt.semilogx(freq, Gain)\n",
    "plt.title('Gain vs Frequency')\n",
    "plt.xlabel('Frequency (Hz)')\n",
    "plt.ylabel('Gain (Volts/Volt)')"
   ]
  },
  {
   "cell_type": "markdown",
   "metadata": {},
   "source": [
    "What do you notice about the shape of this function?  Which frequencies result in large output?  \n",
    "Kinda like a bell curve, shaped around mid range frequencies"
   ]
  },
  {
   "cell_type": "markdown",
   "metadata": {},
   "source": [
    "<img width='30px' align='left' src=\"http://inst.eecs.berkeley.edu/~ee16b/sp16/lab_pics/check.png\">\n",
    "<br/>\n",
    "## <span style=\"color:green\">CHECKOFF</span>\n",
    "\n",
    "### <span style=\"color:green\">**Give back your mystery capacitor!**</span>\n",
    "<span style=\"color:green\">\n",
    "Complete <a href=\"https://goo.gl/forms/bzlzPgYRSucIuIlH3\">this quiz</a>.<br/>\n",
    "Show capacitor calculations and filter frequency responses.<br/>\n",
    "Explain why changing capacitor location changes the frequency response.<br/>\n",
    "Show mic board working and its frequency response.<br/>\n",
    "Explain what you would need to build so the mic board produced the same Vpp for each frequency.\n",
    "</span>\n",
    " \n",
    "## <span style=\"color:red\">Make sure you save this notebook and your mic board measurements for the next lab!</span>"
   ]
  },
  {
   "cell_type": "code",
   "execution_count": null,
   "metadata": {
    "collapsed": true
   },
   "outputs": [],
   "source": []
  }
 ],
 "metadata": {
  "anaconda-cloud": {},
  "kernelspec": {
   "display_name": "Python 3",
   "language": "python",
   "name": "python3"
  },
  "language_info": {
   "codemirror_mode": {
    "name": "ipython",
    "version": 3
   },
   "file_extension": ".py",
   "mimetype": "text/x-python",
   "name": "python",
   "nbconvert_exporter": "python",
   "pygments_lexer": "ipython3",
   "version": "3.4.5"
  }
 },
 "nbformat": 4,
 "nbformat_minor": 1
}
