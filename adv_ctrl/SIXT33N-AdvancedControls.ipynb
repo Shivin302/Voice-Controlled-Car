{
 "cells": [
  {
   "cell_type": "markdown",
   "metadata": {},
   "source": [
    "# SIXT33N Project\n",
    "## Phase 6: Advanced Controls (and more!)\n",
    "\n",
    "### EE 16B: Designing Information Devices and Systems II, Fall 2017\n",
    "\n",
    "Written by Vivek Athalye and Andrew Blatner (2017)"
   ]
  },
  {
   "cell_type": "markdown",
   "metadata": {},
   "source": [
    "**Name 1**:\n",
    "\n",
    "**Login**: ee16b-\n",
    "\n",
    "\n",
    "**Name 2**:\n",
    "\n",
    "**Login**: ee16b-"
   ]
  },
  {
   "cell_type": "markdown",
   "metadata": {},
   "source": [
    "## Table of Contents\n",
    "\n",
    "* [Introduction](#intro)\n",
    "* [Task 1: Launchpad Implementation of PCA Classify](#task1)\n",
    "* [Task 2: Analyzing a Turn](#task2)\n",
    "* [Task 3: Implementing Turns](#task3)\n",
    "* [Task 4: Correcting Mechanical Errors](#task4)"
   ]
  },
  {
   "cell_type": "markdown",
   "metadata": {},
   "source": [
    "<a id='intro'></a>\n",
    "## Introduction\n",
    "\n",
    "This week, we will first implement port our PCA classifier from the iPython notebook to a file that can be run on the Launchpad. This will allow us to integrate PCA with the rest of the project.\n",
    "\n",
    "Then, we will revisit controls. Recall that our control scheme for SIXT33N modeled each wheel in the following way:\n",
    "\n",
    "$$d_R[k+1] = d_R[k] + \\theta_R u_R[k] - \\beta_R$$\n",
    "\n",
    "The open loop model has an input $u[k]$, corresponding to the PWM level, and outputs the distance for that wheel. We implemented a closed-loop controller by using the desired velocity and the difference between the wheel distances, $$\\delta[k] = d_L[k] - d_R[k]$$.\n",
    "\n",
    "In this phase, we will implement turns by modifying the closed loop control scheme we developed to make SIXT33N move straight."
   ]
  },
  {
   "cell_type": "markdown",
   "metadata": {},
   "source": [
    "<a id='task1'></a>\n",
    "## <span style=\"color:blue\">Task 1: Launchpad Implementation of PCA Classify</span>\n",
    "\n",
    "\n",
    "### Materials\n",
    "- Microphone front-end circuit\n",
    "- Launchpad + USB\n"
   ]
  },
  {
   "cell_type": "markdown",
   "metadata": {},
   "source": [
    "**<span style=\"color:red\">IMPORTANT: remove the 5V jumper (pictured below) for this step. It can cause interference during classification.</span>**\n",
    "\n",
    "<img width=400px src=\"images/5vjumper.jpg\">"
   ]
  },
  {
   "cell_type": "markdown",
   "metadata": {},
   "source": [
    "This section will walk you through implementing your classification algorithm on the Launchpad. In addition, you will need to transfer the PCA vectors and mean to the Launchpad. **Use the code below to format vectors for the Launchpad code.**"
   ]
  },
  {
   "cell_type": "code",
   "execution_count": 11,
   "metadata": {
    "collapsed": false
   },
   "outputs": [
    {
     "name": "stdout",
     "output_type": "stream",
     "text": [
      "PC1\n",
      "0.00899097, 0.00561217, 0.00363569, -0.01055335, -0.03906339, -0.08494901, -0.11677893, -0.17074685, -0.23094303, -0.22389627, -0.18797845, -0.19751628, -0.19864463, -0.2037736, -0.23197992, -0.21958967, -0.23030794, -0.22210908, -0.20787395, -0.20209397, -0.19792209, -0.18535966, -0.16675083, -0.13125216, -0.0789998, -0.05117317, -0.01056394, -0.0041902, 0.01621207, 0.02613218, 0.04960792, 0.04455742, 0.04849294, 0.05569485, 0.05575957, 0.06457147, 0.06117554, 0.06863627, 0.07185855, 0.08190224, 0.0868796, 0.0899904, 0.08863602, 0.10542675, 0.10933931, 0.11563764, 0.10444944, 0.10235584, 0.09398261, 0.10220856, 0.09553134, 0.08864683, 0.09719604, 0.08813342, 0.07518341, 0.07376554, 0.0754387, 0.07175801, 0.07057643, 0.06813704, 0.07490745, 0.07358203, 0.06286608, 0.05965842, 0.06239706, 0.06038663, 0.05744446, 0.06125558, 0.06259381, 0.06667366, 0.06484156, 0.05367432, 0.05249944, 0.0443795, 0.04728647, 0.03889418, 0.03376508, 0.03906491, 0.03396555, 0.03115172, 0.02533223, 0.02451458, 0.02876485, 0.02962499, 0.02607741, 0.02370335, 0.02918948, 0.02717826, 0.02633335, 0.01689096, \n",
      " \n",
      "PC2\n",
      "0.04416722, 0.04658042, 0.02368366, -0.02558988, -0.08404109, -0.15709971, -0.16566311, -0.18832668, -0.27057825, -0.25299553, -0.19283048, -0.19606703, -0.14709146, -0.10125801, -0.0319256, 0.03722647, 0.06321843, 0.08837951, 0.13065594, 0.11925212, 0.13117801, 0.14140614, 0.15758746, 0.20643801, 0.2329083, 0.24008372, 0.23955257, 0.22604845, 0.20542644, 0.18001935, 0.1439786, 0.10917527, 0.09972239, 0.0536061, 0.04131611, 0.00048674, -0.02605532, -0.0334954, -0.06578363, -0.08210114, -0.09237265, -0.09574675, -0.08279865, -0.11737998, -0.12857035, -0.12594718, -0.12868758, -0.12069649, -0.0999586, -0.10348694, -0.05526833, -0.07098231, -0.04980424, -0.01813032, 0.01743736, 0.03177268, 0.0372783, 0.04985884, 0.05409954, 0.04784124, 0.03174437, 0.03345447, 0.02590114, 0.0100876, 0.01177758, 0.01154714, 0.00112617, -0.00364989, 0.00677636, -0.00733611, 0.00140337, 0.00787247, 0.01165214, 0.01073424, 0.00856337, 0.00721931, 0.0208448, 0.01751397, -0.00246993, 0.01305358, -0.0056085, 0.00276428, -0.00973117, -0.01156698, -0.01263978, -0.01554517, -0.01455589, -0.01010648, -0.0068225, -0.02365662, \n",
      " \n",
      "Mean Vector\n",
      "0.0053532, 0.00572896, 0.00601331, 0.00792492, 0.01073427, 0.01415807, 0.01741638, 0.02398926, 0.02564078, 0.02525986, 0.02485079, 0.02448398, 0.02332551, 0.02210676, 0.02070058, 0.01921335, 0.01857841, 0.0176469, 0.01693594, 0.0161855, 0.01556385, 0.01497832, 0.01447814, 0.0136406, 0.01259774, 0.01184542, 0.01104993, 0.01092337, 0.01078859, 0.01003128, 0.00948302, 0.00948225, 0.00984921, 0.00902584, 0.00888336, 0.00863901, 0.00866091, 0.00854405, 0.00912329, 0.00899948, 0.0094364, 0.00983219, 0.00990984, 0.01054062, 0.01073293, 0.01092398, 0.01073248, 0.01044187, 0.0106949, 0.01116267, 0.01154799, 0.01233112, 0.01233716, 0.01226055, 0.01179762, 0.01152569, 0.01138554, 0.01110376, 0.01114774, 0.01099695, 0.01083192, 0.01022784, 0.00973291, 0.00936896, 0.00847534, 0.00861621, 0.00821308, 0.00835212, 0.00836312, 0.00823973, 0.00801882, 0.00770311, 0.00727656, 0.00697387, 0.0067466, 0.00659461, 0.0063042, 0.0062466, 0.00580243, 0.00608395, 0.00610481, 0.00574831, 0.00603445, 0.00601463, 0.00579419, 0.00544192, 0.00592797, 0.00595175, 0.00555791, 0.00557566, \n",
      " \n"
     ]
    }
   ],
   "source": [
    "import numpy as np\n",
    "a = ''\n",
    "v = np.array([[ 0.00899097,  0.04416722],\n",
    "       [ 0.00561217,  0.04658042],\n",
    "       [ 0.00363569,  0.02368366],\n",
    "       [-0.01055335, -0.02558988],\n",
    "       [-0.03906339, -0.08404109],\n",
    "       [-0.08494901, -0.15709971],\n",
    "       [-0.11677893, -0.16566311],\n",
    "       [-0.17074685, -0.18832668],\n",
    "       [-0.23094303, -0.27057825],\n",
    "       [-0.22389627, -0.25299553],\n",
    "       [-0.18797845, -0.19283048],\n",
    "       [-0.19751628, -0.19606703],\n",
    "       [-0.19864463, -0.14709146],\n",
    "       [-0.2037736 , -0.10125801],\n",
    "       [-0.23197992, -0.0319256 ],\n",
    "       [-0.21958967,  0.03722647],\n",
    "       [-0.23030794,  0.06321843],\n",
    "       [-0.22210908,  0.08837951],\n",
    "       [-0.20787395,  0.13065594],\n",
    "       [-0.20209397,  0.11925212],\n",
    "       [-0.19792209,  0.13117801],\n",
    "       [-0.18535966,  0.14140614],\n",
    "       [-0.16675083,  0.15758746],\n",
    "       [-0.13125216,  0.20643801],\n",
    "       [-0.0789998 ,  0.2329083 ],\n",
    "       [-0.05117317,  0.24008372],\n",
    "       [-0.01056394,  0.23955257],\n",
    "       [-0.0041902 ,  0.22604845],\n",
    "       [ 0.01621207,  0.20542644],\n",
    "       [ 0.02613218,  0.18001935],\n",
    "       [ 0.04960792,  0.1439786 ],\n",
    "       [ 0.04455742,  0.10917527],\n",
    "       [ 0.04849294,  0.09972239],\n",
    "       [ 0.05569485,  0.0536061 ],\n",
    "       [ 0.05575957,  0.04131611],\n",
    "       [ 0.06457147,  0.00048674],\n",
    "       [ 0.06117554, -0.02605532],\n",
    "       [ 0.06863627, -0.0334954 ],\n",
    "       [ 0.07185855, -0.06578363],\n",
    "       [ 0.08190224, -0.08210114],\n",
    "       [ 0.0868796 , -0.09237265],\n",
    "       [ 0.0899904 , -0.09574675],\n",
    "       [ 0.08863602, -0.08279865],\n",
    "       [ 0.10542675, -0.11737998],\n",
    "       [ 0.10933931, -0.12857035],\n",
    "       [ 0.11563764, -0.12594718],\n",
    "       [ 0.10444944, -0.12868758],\n",
    "       [ 0.10235584, -0.12069649],\n",
    "       [ 0.09398261, -0.0999586 ],\n",
    "       [ 0.10220856, -0.10348694],\n",
    "       [ 0.09553134, -0.05526833],\n",
    "       [ 0.08864683, -0.07098231],\n",
    "       [ 0.09719604, -0.04980424],\n",
    "       [ 0.08813342, -0.01813032],\n",
    "       [ 0.07518341,  0.01743736],\n",
    "       [ 0.07376554,  0.03177268],\n",
    "       [ 0.0754387 ,  0.0372783 ],\n",
    "       [ 0.07175801,  0.04985884],\n",
    "       [ 0.07057643,  0.05409954],\n",
    "       [ 0.06813704,  0.04784124],\n",
    "       [ 0.07490745,  0.03174437],\n",
    "       [ 0.07358203,  0.03345447],\n",
    "       [ 0.06286608,  0.02590114],\n",
    "       [ 0.05965842,  0.0100876 ],\n",
    "       [ 0.06239706,  0.01177758],\n",
    "       [ 0.06038663,  0.01154714],\n",
    "       [ 0.05744446,  0.00112617],\n",
    "       [ 0.06125558, -0.00364989],\n",
    "       [ 0.06259381,  0.00677636],\n",
    "       [ 0.06667366, -0.00733611],\n",
    "       [ 0.06484156,  0.00140337],\n",
    "       [ 0.05367432,  0.00787247],\n",
    "       [ 0.05249944,  0.01165214],\n",
    "       [ 0.0443795 ,  0.01073424],\n",
    "       [ 0.04728647,  0.00856337],\n",
    "       [ 0.03889418,  0.00721931],\n",
    "       [ 0.03376508,  0.0208448 ],\n",
    "       [ 0.03906491,  0.01751397],\n",
    "       [ 0.03396555, -0.00246993],\n",
    "       [ 0.03115172,  0.01305358],\n",
    "       [ 0.02533223, -0.0056085 ],\n",
    "       [ 0.02451458,  0.00276428],\n",
    "       [ 0.02876485, -0.00973117],\n",
    "       [ 0.02962499, -0.01156698],\n",
    "       [ 0.02607741, -0.01263978],\n",
    "       [ 0.02370335, -0.01554517],\n",
    "       [ 0.02918948, -0.01455589],\n",
    "       [ 0.02717826, -0.01010648],\n",
    "       [ 0.02633335, -0.0068225 ],\n",
    "       [ 0.01689096, -0.02365662]]).T\n",
    "for i in v[0,:].T:\n",
    "    a += str(i) + ', '\n",
    "print(\"PC1\")\n",
    "print(a)\n",
    "print(\" \")\n",
    "\n",
    "b=''\n",
    "for i in v[1,:].T:\n",
    "    b += str(i) + ', '\n",
    "print(\"PC2\")\n",
    "print(b)\n",
    "print(\" \")\n",
    "\n",
    "mean_vec = np.array([ 0.0053532 ,  0.00572896,  0.00601331,  0.00792492,  0.01073427,\n",
    "        0.01415807,  0.01741638,  0.02398926,  0.02564078,  0.02525986,\n",
    "        0.02485079,  0.02448398,  0.02332551,  0.02210676,  0.02070058,\n",
    "        0.01921335,  0.01857841,  0.0176469 ,  0.01693594,  0.0161855 ,\n",
    "        0.01556385,  0.01497832,  0.01447814,  0.0136406 ,  0.01259774,\n",
    "        0.01184542,  0.01104993,  0.01092337,  0.01078859,  0.01003128,\n",
    "        0.00948302,  0.00948225,  0.00984921,  0.00902584,  0.00888336,\n",
    "        0.00863901,  0.00866091,  0.00854405,  0.00912329,  0.00899948,\n",
    "        0.0094364 ,  0.00983219,  0.00990984,  0.01054062,  0.01073293,\n",
    "        0.01092398,  0.01073248,  0.01044187,  0.0106949 ,  0.01116267,\n",
    "        0.01154799,  0.01233112,  0.01233716,  0.01226055,  0.01179762,\n",
    "        0.01152569,  0.01138554,  0.01110376,  0.01114774,  0.01099695,\n",
    "        0.01083192,  0.01022784,  0.00973291,  0.00936896,  0.00847534,\n",
    "        0.00861621,  0.00821308,  0.00835212,  0.00836312,  0.00823973,\n",
    "        0.00801882,  0.00770311,  0.00727656,  0.00697387,  0.0067466 ,\n",
    "        0.00659461,  0.0063042 ,  0.0062466 ,  0.00580243,  0.00608395,\n",
    "        0.00610481,  0.00574831,  0.00603445,  0.00601463,  0.00579419,\n",
    "        0.00544192,  0.00592797,  0.00595175,  0.00555791,  0.00557566])\n",
    "c=''\n",
    "for i in mean_vec:\n",
    "    c += str(i) + ', '\n",
    "print(\"Mean Vector\")\n",
    "print(c)\n",
    "print(\" \")\n"
   ]
  },
  {
   "cell_type": "markdown",
   "metadata": {},
   "source": [
    "Your last step will be to implement your <b>data processing</b> and <b>classification</b> (just the projection, not the PCA) in the Launchpad sketch <b>`classify.ino`</b>. Since Energia does not have as many in-built functions as Python, you might have to write out the functions yourself. For example, a dot product should be written as:\n",
    "\n",
    "`float result = 0;`<br/>\n",
    "`for (i=0; i<LENGTH; i++){`<br/>\n",
    "&emsp; `result += vector1[i]*vector2[i];`<br/>\n",
    "`}`\n",
    "\n",
    "For debugging purposes, printing to Energia's serial monitor looks like the line below.\n",
    "\n",
    "<code>Serial.println(\"I'm being printed!\");</code>\n",
    "\n",
    "There are 3 code blocks (`PCA1/2/3`) that you need to modify. <b>You should not have to change anything else outside these marked code blocks.</b> \n",
    "\n",
    "**`CODE BLOCK PCA1`**\n",
    "- Copy `SNIPPET_SIZE`, `PRELENGTH` and `THRESHOLD` from this IPython Notebook.\n",
    "- Read the following to set `KMEANS_THRESHOLD` and `LOUDNESS_THRESHOLD`.\n",
    "\n",
    "**`KMEANS_THRESHOLD` filters the classification depending on a sample's distance from the closest centroid.** If the L2 norm (distance) is larger than the threshold, your classification algorithm should simply ignore it and wait for the next sample. Look at the plot of sample data and the centroids from the PCA Notebook and approximate a radius around the centroids that capture most of the data. **Try to be conservative - it's better to not classify than to misclassify.**\n",
    "\n",
    "**`LOUDNESS_THRESHOLD` filters the classification depending on the amplitude of the recorded data.** If the recorded data is too soft, we do not want to classify it as it is probably noise. Since the loudness unit is arbitrary, start by using `700`. Later, if the Launchpad classifies noise, increase this constant. If it misses a lot of speech (i.e. thinks your word is noise), decrease this constant. This variable is used internally in the enveloping function.\n",
    "\n",
    "**`CODE BLOCK PCA2`**\n",
    "- Copy the PCA vectors, mean, and centroids from this IPython notebook.\n",
    "- If you need more than 2 principal components, add a new `pca_vec3` array. \n",
    "- Using more principal components increases the dimensionality of the centroids and projections.\n",
    "\n",
    "**`CODE BLOCK PCA3`**\n",
    "- This is the actual classification algorithm.\n",
    "- Before this block, the call to `envelope` leaves the data vector in the array called `result`.\n",
    "- Project this data onto your new PCA basis.\n",
    "    - Remember to subtract the mean vector, before doing a dot product for each basis.\n",
    "    - Use the variables `proj1` and `proj2` to store the projection results.\n",
    "- Classify the projections using the centroids.\n",
    "    - Find the distance between the projected data point and each centroid using the function `l2_norm` (for 2 principal components) or `l2_norm3` (for 3 principal components). Look up the function definition in the sketch.\n",
    "    - Out of the 4 centroids, find the one with the smallest L2 norm.\n",
    "    - Verify this distance is less than `KMEANS_THRESHOLD`.\n",
    "- Print the classification to the serial monitor.\n",
    "\n",
    "Before testing the code, probe the circuit's output with the oscilloscope and make sure that it still averages around 1.65V. Now upload the sketch, (re)open the serial monitor, and press the reset button. Say your word and the Launchpad should recognize it!\n",
    "\n",
    "**<span style=\"color:red\">If the Launchpad does not classify as well as you think it should, remember to play with the `KMEANS_THRESHOLD` and `LOUDNESS_THRESHOLD` variables.</span>** To debug the sketch, you can also print out any of the variables you have used. \n",
    "\n",
    "Voila! Your SIXT33N can recognize your words!"
   ]
  },
  {
   "cell_type": "markdown",
   "metadata": {},
   "source": [
    "**<span style=\"color:red\">Summary TO DO</span>** \n",
    "- **<span style=\"color:red\">Fill in `CODE BLOCK PCA1`: Fill out `SNIPPET_SIZE`, `PRELENGTH`, `THRESHOLD`, `KMEANS_THRESHOLD` and `LOUDNESS_THRESHOLD`</span>** \n",
    "- **<span style=\"color:red\">Fill in `CODE BLOCK PCA2`: Copy the principal components, mean vector and centroids from the IPython notebook</span>**\n",
    "- **<span style=\"color:red\">Fill in `CODE BLOCK PCA3`: Do the actual classification. </span>**"
   ]
  },
  {
   "cell_type": "markdown",
   "metadata": {},
   "source": [
    "<img width='30px' align='left' src=\"http://inst.eecs.berkeley.edu/~ee16b/sp16/lab_pics/check.png\">\n",
    "<br/>\n",
    "## <span style=\"color:green\">CHECKPOINT 1</span>\n",
    "<span style=\"color:green\">**Show your GSI the Launchpad recognizing words.** Make sure the correct identified word is printed in the Serial Monitor.</span>"
   ]
  },
  {
   "cell_type": "markdown",
   "metadata": {},
   "source": [
    "<a id='task2'></a>\n",
    "## <span style=\"color:blue\">Task 2: Analyzing a Turn</span>\n",
    "\n",
    "### Materials\n",
    "- SIXT33N Car\n",
    "- Closed-loop control scheme"
   ]
  },
  {
   "cell_type": "markdown",
   "metadata": {},
   "source": [
    "**<span style=\"color:red\">IMPORTANT: replace the 5V jumper (pictured below) for the rest of the lab.</span>**\n",
    "\n",
    "<img width=400px src=\"images/5vjumper.jpg\">"
   ]
  },
  {
   "cell_type": "markdown",
   "metadata": {},
   "source": [
    "First, verify that your closed loop control scheme is still functional. Load `closed_loop.ino` onto your launchpad and make sure your car drives straight."
   ]
  },
  {
   "cell_type": "markdown",
   "metadata": {},
   "source": [
    "### We want to turn with a specific radius.  What open-loop control input would lead to turning?  \n",
    "During open-loop control, we sought to drive the car straight at our desired velocity $v^*$.  \n",
    "\n",
    "We used our model of the car ($\\theta$, $\\beta$) to calculate the open-loop control input which drives the car straight in the absence of perturbations:  \n",
    "\n",
    "$$u^{OL}_L = \\frac{v^*+\\beta_L}{\\theta} $$\n",
    "$$u^{OL}_R = \\frac{v^*+\\beta_R}{\\theta} $$\n",
    "\n",
    "Is it possible to calculate an open-loop control input which would result in turning with a desired radius?\n"
   ]
  },
  {
   "cell_type": "markdown",
   "metadata": {},
   "source": [
    "### We have been turning during Closed-loop Control\n",
    "We can get a clue about turning by considering how we did closed-loop control. We perform feedback control of SIXT33N in order to minimize the difference between the two wheels ($\\delta[k] = d_L[k] - d_R[k]$). When perturbations cause one wheel to get ahead of the other resulting in non-zero $\\delta$, feedback control turns the car to correct the error.  \n",
    "\n",
    "Let's walk through this.  \n",
    "\n",
    "Our feedback control policy is: \n",
    "$$u_L[k] = u_L^{OL} + \\frac{k_L}{\\theta_L}\\delta[k]$$\n",
    "\n",
    "$$u_R[k] = u_R^{OL} + \\frac{k_R}{\\theta_R}\\delta[k]$$\n",
    "\n",
    "\n",
    "Let's say the right wheel has moved further than the left ($d_R[k] > d_L[k]$), resulting in a negative $\\delta[k]$. A negative $\\delta[k]$ results in a reduction of $u_R[k]$, and an increase of $u_L[k]$. But what does this mean physically?\n",
    "\n",
    "If the right wheel is getting ahead of the left one, the left wheel will need to move a little faster and the right wheel a little slower for the wheels to even back out. Thus, feedback control corrects errors by turning to compensate for them.  \n",
    "\n",
    "So $\\delta \\ne 0$ can be used to turn the car. Let's get more precise.  \n"
   ]
  },
  {
   "cell_type": "markdown",
   "metadata": {},
   "source": [
    "### Turning via reference tracking\n",
    "\n",
    "We would like the car to turn with a specified radius $r$ and speed $v^*$. The controller's unit for distance is encoder ticks, but each tick is approximately 1 cm of wheel circumference.\n",
    "\n",
    "To turn, we want $\\delta$ to change at a particular rate. Without loss of generality, we'll analyze a right turn, corresponding to increasing $\\delta$. For a left turn, we simply negate $\\delta$. Our goal is to generate a reference from the desired $r$ and $v^*$ for the controller to follow. This reference will be a function of the controller's time-step.\n",
    "\n",
    "Use the following variables:\n",
    "- $k$ - time-step\n",
    "- $r$ [cm] - turn radius of the center of the car; 1 cm ~ 1 encoder tick\n",
    "- $d$ [ticks] - distance traveled by the center of the car\n",
    "- $l$ [cm] - distance between the centers of the wheels; 1 cm ~ 1 encoder tick\n",
    "- $\\omega$ [rad/tick] - angular velocity\n",
    "- $\\theta$ [rad] - angle traveled\n",
    "\n",
    "Inspect the following diagram:\n",
    "\n",
    "<center>\n",
    "<img width=\"400px\" src=\"images/turning_figure.png\">\n",
    "</center>\n",
    "\n",
    "\n",
    "\n",
    "From this geometry, can you write $\\delta[k]$ in the following form?\n",
    "$$\\delta[k] = f(r,v^*,l,k)$$\n",
    "\n",
    "<h3><span style='color:red'>**Check your answer with the lab staff!**</span></h3>\n"
   ]
  },
  {
   "cell_type": "markdown",
   "metadata": {},
   "source": [
    "<a id='task3'></a>\n",
    "## <span style=\"color:blue\">Task 3: Implementing Turns</span>\n",
    "\n",
    "### Materials\n",
    "- SIXT33N Car\n",
    "- Closed-loop control scheme\n",
    "- Plan from Task 1"
   ]
  },
  {
   "cell_type": "markdown",
   "metadata": {},
   "source": [
    "### Sampling periods \n",
    " \n",
    "In our implementation, the control loop and the data collection have different periods, $T_c$ and $T_d$ respectively.  $T_d$ is an integer multiple of $T_c$: $m=\\frac{T_d}{T_c} \\in \\mathbb{Z}^{+}$\n",
    " \n",
    "The units of $v^*$ are [ticks/$T_d$] and the units of $k$ are [seconds/$T_c$]\n",
    " \n",
    "We use $T_c=100$ms, $T_d=500ms$, so $m=5$.\n",
    "\n",
    "**<span style='color:red'> Replace $v^*$ with $\\frac{v^*}{m}$ [ticks/$T_c$]</span>**"
   ]
  },
  {
   "cell_type": "markdown",
   "metadata": {},
   "source": [
    "### Implementation\n",
    "- Open `turning.ino`.\n",
    "- Copy the required code from `closed_loop.ino` into **`CODE BLOCK CON1/2/3`**\n",
    "    - Make sure to update pin numbers if you've made changes.\n",
    "    - Setting `delta_ss` helps your car's driving converge to straight sooner!\n",
    "- **Complete the function `delta_reference` in `CODE BLOCK CON4`**.\n",
    "    - Look at `CODE BLOCK CON0` to see how this is used!\n",
    "    - Use the variables `TURN_RADIUS`, `v_star`, `CAR WIDTH`, and `k`.\n",
    "    - `delta_ss` is used in `CODE BLOCK CON0`, so don't include it here.\n",
    "- Change the array of run times so the car goes straight for a longer distance, left, straight for a shorter distance, and right for the duration you want.\n",
    "\n",
    "When you're done, try it out! SIXT33N should go straight, turn left, go straight, and turn right with a stop between each stage. It's ok if SIXT33N does not turn 90 degrees - as long as it turns you should be fine. Just make sure that it is clear when SIXT33N is turning, and when it is driving straight."
   ]
  },
  {
   "cell_type": "code",
   "execution_count": 13,
   "metadata": {
    "collapsed": false
   },
   "outputs": [
    {
     "data": {
      "text/plain": [
       "'To fix the large turn, decrease run times'"
      ]
     },
     "execution_count": 13,
     "metadata": {},
     "output_type": "execute_result"
    }
   ],
   "source": [
    "'To fix the large turn, decrease run times'"
   ]
  },
  {
   "cell_type": "markdown",
   "metadata": {},
   "source": [
    "<a id='task4'></a>\n",
    "## <span style=\"color:blue\">Task 4: Correcting Mechanical Errors</span>\n",
    "\n",
    "At this stage, your car may already go perfectly straight and turn left and right equally. However, some cars may not go quite straight even when both encoder measurements are exactly the same. This can be caused by mechanical issues such as axle wobble or mismatch in the wheel sizes. In this case, the car thinks it's driving straight, so it's the best we can do using just the sensors in our control system.\n",
    "\n",
    "If the car is consistently turning slightly instead of driving straight, we can correct it by instructing the car to slightly turn in the opposite direction. \n",
    "\n",
    "**If you think your car could benefit from this, implement the function `straight_correction` in `CODE BLOCK CON5` using the variable `STRAIGHT_RADIUS`.**"
   ]
  },
  {
   "cell_type": "markdown",
   "metadata": {},
   "source": [
    "<span style='color:red'>**Show your GSI the controlled SIXT33N!**</span>\n",
    "\n",
    "In the final phase of the project, you will integrate all of the parts and control SIXT33N with your voice.\n",
    "\n",
    "<img width='30px' align='left' src=\"http://inst.eecs.berkeley.edu/~ee16b/sp16/lab_pics/check.png\">\n",
    "<br/>\n",
    "## <span style=\"color:green\">CHECKPOINT 2</span>\n",
    " <span style=\"color:green\">**Show your GSI how SIXT33N moves using turning.ino.** </span>"
   ]
  },
  {
   "cell_type": "code",
   "execution_count": null,
   "metadata": {
    "collapsed": true
   },
   "outputs": [],
   "source": []
  }
 ],
 "metadata": {
  "anaconda-cloud": {},
  "kernelspec": {
   "display_name": "Python 3",
   "language": "python",
   "name": "python3"
  },
  "language_info": {
   "codemirror_mode": {
    "name": "ipython",
    "version": 3
   },
   "file_extension": ".py",
   "mimetype": "text/x-python",
   "name": "python",
   "nbconvert_exporter": "python",
   "pygments_lexer": "ipython3",
   "version": "3.4.5"
  }
 },
 "nbformat": 4,
 "nbformat_minor": 1
}
